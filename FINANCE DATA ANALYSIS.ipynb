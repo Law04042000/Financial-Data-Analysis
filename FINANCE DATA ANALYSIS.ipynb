{
 "cells": [
  {
   "cell_type": "markdown",
   "id": "2ee0e24a",
   "metadata": {},
   "source": [
    "# Data Preprocessing"
   ]
  },
  {
   "cell_type": "code",
   "execution_count": 1,
   "id": "8d0c4b5e",
   "metadata": {},
   "outputs": [],
   "source": [
    "import numpy as np\n",
    "import pandas as pd\n",
    "import matplotlib.pyplot as plt\n",
    "import seaborn as sns\n",
    "import warnings\n",
    "warnings.filterwarnings(\"ignore\")\n"
   ]
  },
  {
   "cell_type": "code",
   "execution_count": 2,
   "id": "901739a8",
   "metadata": {},
   "outputs": [],
   "source": [
    "Default=pd.read_csv(r'C:\\Users\\Law kumar\\Downloads\\Default.csv')"
   ]
  },
  {
   "cell_type": "code",
   "execution_count": 3,
   "id": "b118fcb4",
   "metadata": {},
   "outputs": [
    {
     "data": {
      "text/html": [
       "<div>\n",
       "<style scoped>\n",
       "    .dataframe tbody tr th:only-of-type {\n",
       "        vertical-align: middle;\n",
       "    }\n",
       "\n",
       "    .dataframe tbody tr th {\n",
       "        vertical-align: top;\n",
       "    }\n",
       "\n",
       "    .dataframe thead th {\n",
       "        text-align: right;\n",
       "    }\n",
       "</style>\n",
       "<table border=\"1\" class=\"dataframe\">\n",
       "  <thead>\n",
       "    <tr style=\"text-align: right;\">\n",
       "      <th></th>\n",
       "      <th>default</th>\n",
       "      <th>student</th>\n",
       "      <th>balance</th>\n",
       "      <th>income</th>\n",
       "    </tr>\n",
       "  </thead>\n",
       "  <tbody>\n",
       "    <tr>\n",
       "      <th>0</th>\n",
       "      <td>No</td>\n",
       "      <td>No</td>\n",
       "      <td>729.53</td>\n",
       "      <td>44361.63</td>\n",
       "    </tr>\n",
       "    <tr>\n",
       "      <th>1</th>\n",
       "      <td>No</td>\n",
       "      <td>Yes</td>\n",
       "      <td>817.18</td>\n",
       "      <td>12106.13</td>\n",
       "    </tr>\n",
       "    <tr>\n",
       "      <th>2</th>\n",
       "      <td>No</td>\n",
       "      <td>No</td>\n",
       "      <td>1073.55</td>\n",
       "      <td>31767.14</td>\n",
       "    </tr>\n",
       "    <tr>\n",
       "      <th>3</th>\n",
       "      <td>No</td>\n",
       "      <td>No</td>\n",
       "      <td>529.25</td>\n",
       "      <td>35704.49</td>\n",
       "    </tr>\n",
       "    <tr>\n",
       "      <th>4</th>\n",
       "      <td>No</td>\n",
       "      <td>No</td>\n",
       "      <td>785.66</td>\n",
       "      <td>38463.50</td>\n",
       "    </tr>\n",
       "  </tbody>\n",
       "</table>\n",
       "</div>"
      ],
      "text/plain": [
       "  default student  balance    income\n",
       "0      No      No   729.53  44361.63\n",
       "1      No     Yes   817.18  12106.13\n",
       "2      No      No  1073.55  31767.14\n",
       "3      No      No   529.25  35704.49\n",
       "4      No      No   785.66  38463.50"
      ]
     },
     "execution_count": 3,
     "metadata": {},
     "output_type": "execute_result"
    }
   ],
   "source": [
    "Default.head()"
   ]
  },
  {
   "cell_type": "code",
   "execution_count": 4,
   "id": "da74e922",
   "metadata": {},
   "outputs": [
    {
     "data": {
      "text/plain": [
       "(10000, 4)"
      ]
     },
     "execution_count": 4,
     "metadata": {},
     "output_type": "execute_result"
    }
   ],
   "source": [
    "Default.shape"
   ]
  },
  {
   "cell_type": "code",
   "execution_count": 5,
   "id": "e7b9a6c8",
   "metadata": {},
   "outputs": [
    {
     "data": {
      "text/plain": [
       "False"
      ]
     },
     "execution_count": 5,
     "metadata": {},
     "output_type": "execute_result"
    }
   ],
   "source": [
    "Default.isnull().values.any()"
   ]
  },
  {
   "cell_type": "code",
   "execution_count": 6,
   "id": "f08d6646",
   "metadata": {},
   "outputs": [
    {
     "data": {
      "text/plain": [
       "Index(['default', 'student'], dtype='object')"
      ]
     },
     "execution_count": 6,
     "metadata": {},
     "output_type": "execute_result"
    }
   ],
   "source": [
    "Default.select_dtypes(include=['object']).columns"
   ]
  },
  {
   "cell_type": "code",
   "execution_count": 7,
   "id": "091570fe",
   "metadata": {},
   "outputs": [
    {
     "data": {
      "text/html": [
       "<div>\n",
       "<style scoped>\n",
       "    .dataframe tbody tr th:only-of-type {\n",
       "        vertical-align: middle;\n",
       "    }\n",
       "\n",
       "    .dataframe tbody tr th {\n",
       "        vertical-align: top;\n",
       "    }\n",
       "\n",
       "    .dataframe thead th {\n",
       "        text-align: right;\n",
       "    }\n",
       "</style>\n",
       "<table border=\"1\" class=\"dataframe\">\n",
       "  <thead>\n",
       "    <tr style=\"text-align: right;\">\n",
       "      <th></th>\n",
       "      <th>balance</th>\n",
       "      <th>income</th>\n",
       "    </tr>\n",
       "  </thead>\n",
       "  <tbody>\n",
       "    <tr>\n",
       "      <th>count</th>\n",
       "      <td>10000.000000</td>\n",
       "      <td>10000.000000</td>\n",
       "    </tr>\n",
       "    <tr>\n",
       "      <th>mean</th>\n",
       "      <td>835.374877</td>\n",
       "      <td>33516.981852</td>\n",
       "    </tr>\n",
       "    <tr>\n",
       "      <th>std</th>\n",
       "      <td>483.714957</td>\n",
       "      <td>13336.639582</td>\n",
       "    </tr>\n",
       "    <tr>\n",
       "      <th>min</th>\n",
       "      <td>0.000000</td>\n",
       "      <td>771.970000</td>\n",
       "    </tr>\n",
       "    <tr>\n",
       "      <th>25%</th>\n",
       "      <td>481.732500</td>\n",
       "      <td>21340.460000</td>\n",
       "    </tr>\n",
       "    <tr>\n",
       "      <th>50%</th>\n",
       "      <td>823.635000</td>\n",
       "      <td>34552.645000</td>\n",
       "    </tr>\n",
       "    <tr>\n",
       "      <th>75%</th>\n",
       "      <td>1166.305000</td>\n",
       "      <td>43807.730000</td>\n",
       "    </tr>\n",
       "    <tr>\n",
       "      <th>max</th>\n",
       "      <td>2654.320000</td>\n",
       "      <td>73554.230000</td>\n",
       "    </tr>\n",
       "  </tbody>\n",
       "</table>\n",
       "</div>"
      ],
      "text/plain": [
       "            balance        income\n",
       "count  10000.000000  10000.000000\n",
       "mean     835.374877  33516.981852\n",
       "std      483.714957  13336.639582\n",
       "min        0.000000    771.970000\n",
       "25%      481.732500  21340.460000\n",
       "50%      823.635000  34552.645000\n",
       "75%     1166.305000  43807.730000\n",
       "max     2654.320000  73554.230000"
      ]
     },
     "execution_count": 7,
     "metadata": {},
     "output_type": "execute_result"
    }
   ],
   "source": [
    "Default.describe()"
   ]
  },
  {
   "cell_type": "markdown",
   "id": "a56752fa",
   "metadata": {},
   "source": [
    "# Data Visualization\n"
   ]
  },
  {
   "cell_type": "code",
   "execution_count": 8,
   "id": "e1d2f322",
   "metadata": {},
   "outputs": [
    {
     "data": {
      "image/png": "[encoded data removed]",
      "text/plain": [
       "<Figure size 1080x360 with 2 Axes>"
      ]
     },
     "metadata": {
      "needs_background": "light"
     },
     "output_type": "display_data"
    }
   ],
   "source": [
    "plt.figure(figsize=(15,5))\n",
    "plt.subplot(1,2,1)\n",
    "sns.boxplot(y=Default['balance'])\n",
    "\n",
    "plt.subplot(1,2,2)\n",
    "sns.boxplot(y=Default['income'])\n",
    "plt.show()\n"
   ]
  },
  {
   "cell_type": "code",
   "execution_count": 9,
   "id": "fca5f699",
   "metadata": {},
   "outputs": [
    {
     "data": {
      "image/png": "[encoded data removed]",
      "text/plain": [
       "<Figure size 1080x360 with 2 Axes>"
      ]
     },
     "metadata": {
      "needs_background": "light"
     },
     "output_type": "display_data"
    }
   ],
   "source": [
    "plt.figure(figsize=(15,5))\n",
    "plt.subplot(1,2,1)\n",
    "sns.countplot(Default['student'])\n",
    "\n",
    "plt.subplot(1,2,2)\n",
    "sns.countplot(Default['default'])\n",
    "plt.show()\n"
   ]
  },
  {
   "cell_type": "code",
   "execution_count": 10,
   "id": "4c6f384f",
   "metadata": {},
   "outputs": [
    {
     "data": {
      "text/plain": [
       "No     7056\n",
       "Yes    2944\n",
       "Name: student, dtype: int64"
      ]
     },
     "execution_count": 10,
     "metadata": {},
     "output_type": "execute_result"
    }
   ],
   "source": [
    "Default['student'].value_counts()"
   ]
  },
  {
   "cell_type": "code",
   "execution_count": 11,
   "id": "5bc2e989",
   "metadata": {},
   "outputs": [
    {
     "data": {
      "text/plain": [
       "No     9667\n",
       "Yes     333\n",
       "Name: default, dtype: int64"
      ]
     },
     "execution_count": 11,
     "metadata": {},
     "output_type": "execute_result"
    }
   ],
   "source": [
    "Default['default'].value_counts()"
   ]
  },
  {
   "cell_type": "code",
   "execution_count": 12,
   "id": "d37453bd",
   "metadata": {},
   "outputs": [
    {
     "data": {
      "text/plain": [
       "No     0.7056\n",
       "Yes    0.2944\n",
       "Name: student, dtype: float64"
      ]
     },
     "execution_count": 12,
     "metadata": {},
     "output_type": "execute_result"
    }
   ],
   "source": [
    "Default['student'].value_counts(normalize=True)"
   ]
  },
  {
   "cell_type": "code",
   "execution_count": 13,
   "id": "aa2edb59",
   "metadata": {},
   "outputs": [
    {
     "data": {
      "text/plain": [
       "No     0.9667\n",
       "Yes    0.0333\n",
       "Name: default, dtype: float64"
      ]
     },
     "execution_count": 13,
     "metadata": {},
     "output_type": "execute_result"
    }
   ],
   "source": [
    "Default['default'].value_counts(normalize=True)"
   ]
  },
  {
   "cell_type": "code",
   "execution_count": 14,
   "id": "4d01fb82",
   "metadata": {},
   "outputs": [
    {
     "data": {
      "image/png": "[encoded data removed]",
      "text/plain": [
       "<Figure size 1080x360 with 2 Axes>"
      ]
     },
     "metadata": {
      "needs_background": "light"
     },
     "output_type": "display_data"
    }
   ],
   "source": [
    " plt.figure(figsize=(15,5))\n",
    "plt.subplot(1,2,1)\n",
    "sns.boxplot(Default['default'],Default['balance'],)\n",
    "\n",
    "plt.subplot(1,2,2)\n",
    "sns.boxplot(Default['default'],Default['income'])\n",
    "plt.show()\n"
   ]
  },
  {
   "cell_type": "markdown",
   "id": "44d71b9a",
   "metadata": {},
   "source": [
    "# Correlation"
   ]
  },
  {
   "cell_type": "code",
   "execution_count": 15,
   "id": "6d8cb8fd",
   "metadata": {},
   "outputs": [
    {
     "data": {
      "text/html": [
       "<div>\n",
       "<style scoped>\n",
       "    .dataframe tbody tr th:only-of-type {\n",
       "        vertical-align: middle;\n",
       "    }\n",
       "\n",
       "    .dataframe tbody tr th {\n",
       "        vertical-align: top;\n",
       "    }\n",
       "\n",
       "    .dataframe thead th {\n",
       "        text-align: right;\n",
       "    }\n",
       "</style>\n",
       "<table border=\"1\" class=\"dataframe\">\n",
       "  <thead>\n",
       "    <tr style=\"text-align: right;\">\n",
       "      <th></th>\n",
       "      <th>balance</th>\n",
       "      <th>income</th>\n",
       "    </tr>\n",
       "  </thead>\n",
       "  <tbody>\n",
       "    <tr>\n",
       "      <th>balance</th>\n",
       "      <td>1.000000</td>\n",
       "      <td>-0.152243</td>\n",
       "    </tr>\n",
       "    <tr>\n",
       "      <th>income</th>\n",
       "      <td>-0.152243</td>\n",
       "      <td>1.000000</td>\n",
       "    </tr>\n",
       "  </tbody>\n",
       "</table>\n",
       "</div>"
      ],
      "text/plain": [
       "          balance    income\n",
       "balance  1.000000 -0.152243\n",
       "income  -0.152243  1.000000"
      ]
     },
     "execution_count": 15,
     "metadata": {},
     "output_type": "execute_result"
    }
   ],
   "source": [
    "corr=Default.corr()\n",
    "corr"
   ]
  },
  {
   "cell_type": "code",
   "execution_count": 16,
   "id": "3b035320",
   "metadata": {},
   "outputs": [
    {
     "data": {
      "text/plain": [
       "<AxesSubplot:>"
      ]
     },
     "execution_count": 16,
     "metadata": {},
     "output_type": "execute_result"
    },
    {
     "data": {
      "image/png": "[encoded data removed]",
      "text/plain": [
       "<Figure size 1080x360 with 2 Axes>"
      ]
     },
     "metadata": {
      "needs_background": "light"
     },
     "output_type": "display_data"
    }
   ],
   "source": [
    "plt.figure(figsize=(15,5))\n",
    "sns.heatmap(corr,annot=True)"
   ]
  },
  {
   "cell_type": "code",
   "execution_count": 17,
   "id": "875c18c4",
   "metadata": {},
   "outputs": [
    {
     "data": {
      "text/plain": [
       "2193.16375"
      ]
     },
     "execution_count": 17,
     "metadata": {},
     "output_type": "execute_result"
    }
   ],
   "source": [
    "Q1,Q3=Default['balance'].quantile([0.25,0.75])\n",
    "IQR=Q3-Q1\n",
    "LL=Q1-1.5*IQR\n",
    "UL=Q3+1.5*IQR\n",
    "UL"
   ]
  },
  {
   "cell_type": "code",
   "execution_count": 18,
   "id": "7a26f4bd",
   "metadata": {},
   "outputs": [
    {
     "data": {
      "text/html": [
       "<div>\n",
       "<style scoped>\n",
       "    .dataframe tbody tr th:only-of-type {\n",
       "        vertical-align: middle;\n",
       "    }\n",
       "\n",
       "    .dataframe tbody tr th {\n",
       "        vertical-align: top;\n",
       "    }\n",
       "\n",
       "    .dataframe thead th {\n",
       "        text-align: right;\n",
       "    }\n",
       "</style>\n",
       "<table border=\"1\" class=\"dataframe\">\n",
       "  <thead>\n",
       "    <tr style=\"text-align: right;\">\n",
       "      <th></th>\n",
       "      <th>default</th>\n",
       "      <th>student</th>\n",
       "      <th>balance</th>\n",
       "      <th>income</th>\n",
       "    </tr>\n",
       "  </thead>\n",
       "  <tbody>\n",
       "    <tr>\n",
       "      <th>173</th>\n",
       "      <td>Yes</td>\n",
       "      <td>Yes</td>\n",
       "      <td>2205.80</td>\n",
       "      <td>14271.49</td>\n",
       "    </tr>\n",
       "    <tr>\n",
       "      <th>1136</th>\n",
       "      <td>Yes</td>\n",
       "      <td>No</td>\n",
       "      <td>2499.02</td>\n",
       "      <td>51504.29</td>\n",
       "    </tr>\n",
       "    <tr>\n",
       "      <th>1160</th>\n",
       "      <td>Yes</td>\n",
       "      <td>Yes</td>\n",
       "      <td>2502.68</td>\n",
       "      <td>14947.52</td>\n",
       "    </tr>\n",
       "    <tr>\n",
       "      <th>1359</th>\n",
       "      <td>Yes</td>\n",
       "      <td>No</td>\n",
       "      <td>2220.97</td>\n",
       "      <td>40725.10</td>\n",
       "    </tr>\n",
       "    <tr>\n",
       "      <th>1502</th>\n",
       "      <td>Yes</td>\n",
       "      <td>Yes</td>\n",
       "      <td>2332.88</td>\n",
       "      <td>11770.23</td>\n",
       "    </tr>\n",
       "  </tbody>\n",
       "</table>\n",
       "</div>"
      ],
      "text/plain": [
       "     default student  balance    income\n",
       "173      Yes     Yes  2205.80  14271.49\n",
       "1136     Yes      No  2499.02  51504.29\n",
       "1160     Yes     Yes  2502.68  14947.52\n",
       "1359     Yes      No  2220.97  40725.10\n",
       "1502     Yes     Yes  2332.88  11770.23"
      ]
     },
     "execution_count": 18,
     "metadata": {},
     "output_type": "execute_result"
    }
   ],
   "source": [
    "df=Default[Default['balance']>UL]\n",
    "df.head()"
   ]
  },
  {
   "cell_type": "code",
   "execution_count": 19,
   "id": "bf6a30a2",
   "metadata": {},
   "outputs": [
    {
     "data": {
      "text/plain": [
       "31"
      ]
     },
     "execution_count": 19,
     "metadata": {},
     "output_type": "execute_result"
    }
   ],
   "source": [
    "df['default'].count()"
   ]
  },
  {
   "cell_type": "code",
   "execution_count": 20,
   "id": "a88fe788",
   "metadata": {},
   "outputs": [
    {
     "data": {
      "text/plain": [
       "Yes    0.83871\n",
       "No     0.16129\n",
       "Name: default, dtype: float64"
      ]
     },
     "execution_count": 20,
     "metadata": {},
     "output_type": "execute_result"
    }
   ],
   "source": [
    "df['default'].value_counts(normalize = True)"
   ]
  },
  {
   "cell_type": "code",
   "execution_count": 21,
   "id": "eef363b8",
   "metadata": {},
   "outputs": [
    {
     "data": {
      "text/plain": [
       "Yes    26\n",
       "No      5\n",
       "Name: default, dtype: int64"
      ]
     },
     "execution_count": 21,
     "metadata": {},
     "output_type": "execute_result"
    }
   ],
   "source": [
    "df['default'].value_counts()"
   ]
  },
  {
   "cell_type": "code",
   "execution_count": 22,
   "id": "2ae606b8",
   "metadata": {},
   "outputs": [],
   "source": [
    "Default['balance'] = np.where(Default['balance'] > UL, UL, Default['balance'] )"
   ]
  },
  {
   "cell_type": "code",
   "execution_count": 23,
   "id": "6facfe1d",
   "metadata": {},
   "outputs": [
    {
     "data": {
      "image/png": "[encoded data removed]",
      "text/plain": [
       "<Figure size 432x288 with 1 Axes>"
      ]
     },
     "metadata": {
      "needs_background": "light"
     },
     "output_type": "display_data"
    }
   ],
   "source": [
    "sns.boxplot(y = Default['balance'])\n",
    "plt.show()"
   ]
  },
  {
   "cell_type": "markdown",
   "id": "b1c9044e",
   "metadata": {},
   "source": [
    "# Dealing with categorical values"
   ]
  },
  {
   "cell_type": "code",
   "execution_count": 24,
   "id": "fcf80c3f",
   "metadata": {},
   "outputs": [],
   "source": [
    "Default = pd.get_dummies(Default, drop_first = True)"
   ]
  },
  {
   "cell_type": "code",
   "execution_count": 25,
   "id": "64f1f7e4",
   "metadata": {},
   "outputs": [
    {
     "data": {
      "text/html": [
       "<div>\n",
       "<style scoped>\n",
       "    .dataframe tbody tr th:only-of-type {\n",
       "        vertical-align: middle;\n",
       "    }\n",
       "\n",
       "    .dataframe tbody tr th {\n",
       "        vertical-align: top;\n",
       "    }\n",
       "\n",
       "    .dataframe thead th {\n",
       "        text-align: right;\n",
       "    }\n",
       "</style>\n",
       "<table border=\"1\" class=\"dataframe\">\n",
       "  <thead>\n",
       "    <tr style=\"text-align: right;\">\n",
       "      <th></th>\n",
       "      <th>balance</th>\n",
       "      <th>income</th>\n",
       "      <th>default_Yes</th>\n",
       "      <th>student_Yes</th>\n",
       "    </tr>\n",
       "  </thead>\n",
       "  <tbody>\n",
       "    <tr>\n",
       "      <th>0</th>\n",
       "      <td>729.53</td>\n",
       "      <td>44361.63</td>\n",
       "      <td>0</td>\n",
       "      <td>0</td>\n",
       "    </tr>\n",
       "    <tr>\n",
       "      <th>1</th>\n",
       "      <td>817.18</td>\n",
       "      <td>12106.13</td>\n",
       "      <td>0</td>\n",
       "      <td>1</td>\n",
       "    </tr>\n",
       "    <tr>\n",
       "      <th>2</th>\n",
       "      <td>1073.55</td>\n",
       "      <td>31767.14</td>\n",
       "      <td>0</td>\n",
       "      <td>0</td>\n",
       "    </tr>\n",
       "    <tr>\n",
       "      <th>3</th>\n",
       "      <td>529.25</td>\n",
       "      <td>35704.49</td>\n",
       "      <td>0</td>\n",
       "      <td>0</td>\n",
       "    </tr>\n",
       "    <tr>\n",
       "      <th>4</th>\n",
       "      <td>785.66</td>\n",
       "      <td>38463.50</td>\n",
       "      <td>0</td>\n",
       "      <td>0</td>\n",
       "    </tr>\n",
       "  </tbody>\n",
       "</table>\n",
       "</div>"
      ],
      "text/plain": [
       "   balance    income  default_Yes  student_Yes\n",
       "0   729.53  44361.63            0            0\n",
       "1   817.18  12106.13            0            1\n",
       "2  1073.55  31767.14            0            0\n",
       "3   529.25  35704.49            0            0\n",
       "4   785.66  38463.50            0            0"
      ]
     },
     "execution_count": 25,
     "metadata": {},
     "output_type": "execute_result"
    }
   ],
   "source": [
    "Default.head()"
   ]
  },
  {
   "cell_type": "markdown",
   "id": "fafaaab7",
   "metadata": {},
   "source": [
    "# Train test split"
   ]
  },
  {
   "cell_type": "code",
   "execution_count": 26,
   "id": "85c9a1b7",
   "metadata": {},
   "outputs": [],
   "source": [
    "from sklearn.model_selection import train_test_split"
   ]
  },
  {
   "cell_type": "code",
   "execution_count": 27,
   "id": "0c151d21",
   "metadata": {},
   "outputs": [],
   "source": [
    "X = Default.drop('default_Yes', axis = 1)\n",
    "Y = Default['default_Yes']"
   ]
  },
  {
   "cell_type": "code",
   "execution_count": 28,
   "id": "fa011b64",
   "metadata": {},
   "outputs": [],
   "source": [
    "X_train, X_test, Y_train, Y_test = train_test_split(X, Y, test_size = 0.3, random_state = 0)"
   ]
  },
  {
   "cell_type": "code",
   "execution_count": 29,
   "id": "aa29afe5",
   "metadata": {},
   "outputs": [
    {
     "data": {
      "text/plain": [
       "(7000, 3)"
      ]
     },
     "execution_count": 29,
     "metadata": {},
     "output_type": "execute_result"
    }
   ],
   "source": [
    "X_train.shape"
   ]
  },
  {
   "cell_type": "code",
   "execution_count": 30,
   "id": "e9a12c13",
   "metadata": {},
   "outputs": [
    {
     "data": {
      "text/plain": [
       "(7000,)"
      ]
     },
     "execution_count": 30,
     "metadata": {},
     "output_type": "execute_result"
    }
   ],
   "source": [
    "Y_train.shape"
   ]
  },
  {
   "cell_type": "code",
   "execution_count": 31,
   "id": "6ba64dd4",
   "metadata": {},
   "outputs": [
    {
     "data": {
      "text/plain": [
       "(3000, 3)"
      ]
     },
     "execution_count": 31,
     "metadata": {},
     "output_type": "execute_result"
    }
   ],
   "source": [
    "X_test.shape"
   ]
  },
  {
   "cell_type": "code",
   "execution_count": 32,
   "id": "c85f6036",
   "metadata": {},
   "outputs": [
    {
     "data": {
      "text/plain": [
       "(3000,)"
      ]
     },
     "execution_count": 32,
     "metadata": {},
     "output_type": "execute_result"
    }
   ],
   "source": [
    "Y_test.shape"
   ]
  },
  {
   "cell_type": "markdown",
   "id": "39bdc813",
   "metadata": {},
   "source": [
    "# Feature Scaling\n"
   ]
  },
  {
   "cell_type": "code",
   "execution_count": 33,
   "id": "2464dda0",
   "metadata": {},
   "outputs": [],
   "source": [
    "from sklearn.preprocessing import StandardScaler"
   ]
  },
  {
   "cell_type": "code",
   "execution_count": 34,
   "id": "5482e243",
   "metadata": {},
   "outputs": [],
   "source": [
    "scaler= StandardScaler()"
   ]
  },
  {
   "cell_type": "code",
   "execution_count": 35,
   "id": "2f2a3284",
   "metadata": {},
   "outputs": [],
   "source": [
    "X_train=scaler.fit_transform(X_train)"
   ]
  },
  {
   "cell_type": "code",
   "execution_count": 36,
   "id": "b1e115b3",
   "metadata": {},
   "outputs": [],
   "source": [
    "X_test=scaler.fit_transform(X_test)"
   ]
  },
  {
   "cell_type": "code",
   "execution_count": 37,
   "id": "35311b70",
   "metadata": {},
   "outputs": [
    {
     "data": {
      "text/plain": [
       "array([[-0.47014804,  0.21687103, -0.6417629 ],\n",
       "       [-1.0423052 , -0.31625018, -0.6417629 ],\n",
       "       [-0.94476086,  0.41064179, -0.6417629 ],\n",
       "       ...,\n",
       "       [-0.30361502, -1.47019889,  1.55820787],\n",
       "       [-1.64174473, -1.47842568,  1.55820787],\n",
       "       [-1.03312063,  1.39814409, -0.6417629 ]])"
      ]
     },
     "execution_count": 37,
     "metadata": {},
     "output_type": "execute_result"
    }
   ],
   "source": [
    "X_train"
   ]
  },
  {
   "cell_type": "code",
   "execution_count": 38,
   "id": "f92ef096",
   "metadata": {},
   "outputs": [
    {
     "data": {
      "text/plain": [
       "array([[-1.71605077, -1.44453604,  1.52510405],\n",
       "       [-0.90558714,  1.64870465, -0.65569297],\n",
       "       [ 0.4202382 ,  1.0637354 , -0.65569297],\n",
       "       ...,\n",
       "       [ 1.60530062, -1.60902663,  1.52510405],\n",
       "       [-1.71605077, -0.33711358, -0.65569297],\n",
       "       [-0.82070067, -1.18187127,  1.52510405]])"
      ]
     },
     "execution_count": 38,
     "metadata": {},
     "output_type": "execute_result"
    }
   ],
   "source": [
    "X_test"
   ]
  },
  {
   "cell_type": "markdown",
   "id": "15d34678",
   "metadata": {},
   "source": [
    "# Model application"
   ]
  },
  {
   "cell_type": "code",
   "execution_count": 39,
   "id": "d57967f7",
   "metadata": {},
   "outputs": [],
   "source": [
    "from sklearn.linear_model import LogisticRegression"
   ]
  },
  {
   "cell_type": "code",
   "execution_count": 40,
   "id": "47b32ee5",
   "metadata": {},
   "outputs": [],
   "source": [
    "Classifier_lr=LogisticRegression(random_state=0)"
   ]
  },
  {
   "cell_type": "code",
   "execution_count": 41,
   "id": "7e232410",
   "metadata": {},
   "outputs": [
    {
     "data": {
      "text/plain": [
       "LogisticRegression(random_state=0)"
      ]
     },
     "execution_count": 41,
     "metadata": {},
     "output_type": "execute_result"
    }
   ],
   "source": [
    "Classifier_lr.fit(X_train,Y_train)"
   ]
  },
  {
   "cell_type": "code",
   "execution_count": 42,
   "id": "5721f044",
   "metadata": {},
   "outputs": [],
   "source": [
    "Y_predict=Classifier_lr.predict(X_test)"
   ]
  },
  {
   "cell_type": "code",
   "execution_count": 43,
   "id": "362be44d",
   "metadata": {},
   "outputs": [
    {
     "data": {
      "text/plain": [
       "array([0, 0, 0, ..., 0, 0, 0], dtype=uint8)"
      ]
     },
     "execution_count": 43,
     "metadata": {},
     "output_type": "execute_result"
    }
   ],
   "source": [
    "Y_predict"
   ]
  },
  {
   "cell_type": "markdown",
   "id": "d1377b97",
   "metadata": {},
   "source": [
    "# Evaluation of performance"
   ]
  },
  {
   "cell_type": "code",
   "execution_count": 44,
   "id": "aba58b4a",
   "metadata": {},
   "outputs": [],
   "source": [
    "from sklearn.metrics import confusion_matrix,classification_report"
   ]
  },
  {
   "cell_type": "code",
   "execution_count": 45,
   "id": "8c85362b",
   "metadata": {},
   "outputs": [
    {
     "data": {
      "text/plain": [
       "array([[2880,    7],\n",
       "       [  78,   35]], dtype=int64)"
      ]
     },
     "execution_count": 45,
     "metadata": {},
     "output_type": "execute_result"
    }
   ],
   "source": [
    "confusion_matrix(Y_test,Y_predict)"
   ]
  },
  {
   "cell_type": "code",
   "execution_count": 46,
   "id": "7a7ecdcf",
   "metadata": {},
   "outputs": [
    {
     "data": {
      "text/plain": [
       "'              precision    recall  f1-score   support\\n\\n           0       0.97      1.00      0.99      2887\\n           1       0.83      0.31      0.45       113\\n\\n    accuracy                           0.97      3000\\n   macro avg       0.90      0.65      0.72      3000\\nweighted avg       0.97      0.97      0.97      3000\\n'"
      ]
     },
     "execution_count": 46,
     "metadata": {},
     "output_type": "execute_result"
    }
   ],
   "source": [
    "classification_report(Y_test,Y_predict)"
   ]
  },
  {
   "cell_type": "code",
   "execution_count": 47,
   "id": "1aba8791",
   "metadata": {},
   "outputs": [],
   "source": [
    "from sklearn.model_selection import cross_val_score"
   ]
  },
  {
   "cell_type": "code",
   "execution_count": 48,
   "id": "7a3ae112",
   "metadata": {},
   "outputs": [],
   "source": [
    "Accuracies=cross_val_score(estimator=Classifier_lr,X=X_train,y=Y_train,cv=10)"
   ]
  },
  {
   "cell_type": "code",
   "execution_count": 49,
   "id": "41f474fb",
   "metadata": {},
   "outputs": [
    {
     "data": {
      "text/plain": [
       "0.9737142857142856"
      ]
     },
     "execution_count": 49,
     "metadata": {},
     "output_type": "execute_result"
    }
   ],
   "source": [
    "np.mean(Accuracies)"
   ]
  },
  {
   "cell_type": "markdown",
   "id": "7ec0b7b5",
   "metadata": {},
   "source": [
    "# Hyperparameter tunning\n"
   ]
  },
  {
   "cell_type": "code",
   "execution_count": 50,
   "id": "2eea5791",
   "metadata": {},
   "outputs": [],
   "source": [
    "from sklearn.model_selection import RandomizedSearchCV\n",
    "\n",
    "\n"
   ]
  },
  {
   "cell_type": "code",
   "execution_count": 51,
   "id": "8358bbb8",
   "metadata": {},
   "outputs": [],
   "source": [
    "parameters={'penalty':['l1','l2','elasticnet','none'],\n",
    "            'C':[0.25,0.5,0.75,1.0,1.25,1.50,1.75,2.0],\n",
    "            'solver':['newton-cg', 'lbfgs', 'liblinear', 'sag', 'saga']}"
   ]
  },
  {
   "cell_type": "code",
   "execution_count": 52,
   "id": "7a90c6c2",
   "metadata": {},
   "outputs": [],
   "source": [
    "random_search=RandomizedSearchCV(estimator=Classifier_lr,param_distributions=parameters,n_iter=10,scoring='roc_auc',n_jobs=-1,cv=10,verbose=3)"
   ]
  },
  {
   "cell_type": "code",
   "execution_count": 53,
   "id": "85d84ad9",
   "metadata": {},
   "outputs": [
    {
     "name": "stdout",
     "output_type": "stream",
     "text": [
      "Fitting 10 folds for each of 10 candidates, totalling 100 fits\n"
     ]
    },
    {
     "data": {
      "text/plain": [
       "RandomizedSearchCV(cv=10, estimator=LogisticRegression(random_state=0),\n",
       "                   n_jobs=-1,\n",
       "                   param_distributions={'C': [0.25, 0.5, 0.75, 1.0, 1.25, 1.5,\n",
       "                                              1.75, 2.0],\n",
       "                                        'penalty': ['l1', 'l2', 'elasticnet',\n",
       "                                                    'none'],\n",
       "                                        'solver': ['newton-cg', 'lbfgs',\n",
       "                                                   'liblinear', 'sag',\n",
       "                                                   'saga']},\n",
       "                   scoring='roc_auc', verbose=3)"
      ]
     },
     "execution_count": 53,
     "metadata": {},
     "output_type": "execute_result"
    }
   ],
   "source": [
    "random_search.fit(X_train,Y_train)"
   ]
  },
  {
   "cell_type": "code",
   "execution_count": 54,
   "id": "a78990c2",
   "metadata": {},
   "outputs": [
    {
     "data": {
      "text/plain": [
       "LogisticRegression(C=0.5, penalty='l1', random_state=0, solver='liblinear')"
      ]
     },
     "execution_count": 54,
     "metadata": {},
     "output_type": "execute_result"
    }
   ],
   "source": [
    "random_search.best_estimator_"
   ]
  },
  {
   "cell_type": "code",
   "execution_count": 55,
   "id": "6a37b580",
   "metadata": {},
   "outputs": [
    {
     "data": {
      "text/plain": [
       "{'solver': 'liblinear', 'penalty': 'l1', 'C': 0.5}"
      ]
     },
     "execution_count": 55,
     "metadata": {},
     "output_type": "execute_result"
    }
   ],
   "source": [
    "random_search.best_params_"
   ]
  },
  {
   "cell_type": "code",
   "execution_count": 56,
   "id": "bbedb8bc",
   "metadata": {},
   "outputs": [
    {
     "data": {
      "text/plain": [
       "0.9516894609814963"
      ]
     },
     "execution_count": 56,
     "metadata": {},
     "output_type": "execute_result"
    }
   ],
   "source": [
    "random_search.best_score_"
   ]
  },
  {
   "cell_type": "code",
   "execution_count": 58,
   "id": "5bcde240",
   "metadata": {},
   "outputs": [
    {
     "data": {
      "text/plain": [
       "LogisticRegression(C=0.5, penalty='l1', random_state=0, solver='liblinear')"
      ]
     },
     "execution_count": 58,
     "metadata": {},
     "output_type": "execute_result"
    }
   ],
   "source": [
    "from sklearn.linear_model import LogisticRegression\n",
    "Classifier_lr=LogisticRegression(random_state=0,solver= 'liblinear', penalty= 'l1', C= 0.5)\n",
    "Classifier_lr.fit(X_train,Y_train)"
   ]
  },
  {
   "cell_type": "code",
   "execution_count": 59,
   "id": "508b8b7d",
   "metadata": {},
   "outputs": [],
   "source": [
    "Y_predict=Classifier_lr.predict(X_test)"
   ]
  },
  {
   "cell_type": "code",
   "execution_count": 60,
   "id": "dd5a853b",
   "metadata": {},
   "outputs": [
    {
     "data": {
      "text/plain": [
       "'              precision    recall  f1-score   support\\n\\n           0       0.97      1.00      0.99      2887\\n           1       0.85      0.31      0.45       113\\n\\n    accuracy                           0.97      3000\\n   macro avg       0.91      0.65      0.72      3000\\nweighted avg       0.97      0.97      0.97      3000\\n'"
      ]
     },
     "execution_count": 60,
     "metadata": {},
     "output_type": "execute_result"
    }
   ],
   "source": [
    "classification_report(Y_test,Y_predict)"
   ]
  },
  {
   "cell_type": "code",
   "execution_count": 61,
   "id": "2f6e2f92",
   "metadata": {},
   "outputs": [],
   "source": [
    "Accuracies=cross_val_score(Classifier_lr,X_train,Y_train,cv=10)"
   ]
  },
  {
   "cell_type": "code",
   "execution_count": 62,
   "id": "ba57dfef",
   "metadata": {},
   "outputs": [
    {
     "data": {
      "text/plain": [
       "0.9737142857142856"
      ]
     },
     "execution_count": 62,
     "metadata": {},
     "output_type": "execute_result"
    }
   ],
   "source": [
    "np.mean(Accuracies)"
   ]
  },
  {
   "cell_type": "code",
   "execution_count": null,
   "id": "8b082c45",
   "metadata": {},
   "outputs": [],
   "source": []
  }
 ],
 "metadata": {
  "kernelspec": {
   "display_name": "Python 3 (ipykernel)",
   "language": "python",
   "name": "python3"
  },
  "language_info": {
   "codemirror_mode": {
    "name": "ipython",
    "version": 3
   },
   "file_extension": ".py",
   "mimetype": "text/x-python",
   "name": "python",
   "nbconvert_exporter": "python",
   "pygments_lexer": "ipython3",
   "version": "3.9.12"
  }
 },
 "nbformat": 4,
 "nbformat_minor": 5
}
